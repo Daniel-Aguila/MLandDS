{
 "cells": [
  {
   "cell_type": "code",
   "execution_count": 1,
   "metadata": {},
   "outputs": [],
   "source": [
    "import numpy as np\n",
    "import pandas as pd\n",
    "import matplotlib.pyplot as plt\n",
    "import seaborn as sns"
   ]
  },
  {
   "cell_type": "markdown",
   "metadata": {},
   "source": [
    "<h1>Feature Engineering</h1>"
   ]
  },
  {
   "cell_type": "markdown",
   "metadata": {},
   "source": [
    "We can do \n",
    "\n",
    "<ul>\n",
    "    <li>Integer Encoding - Directly convert categories into integers 1,2,3...N: Pros:Very easy to do and understand, does not increase number of features. Cons: Implies ordered relationship between categories</li>\n",
    "    <li>One Hot Encoding - Convert each category into individual features that are either 0 or 1: Pros: No ordering implied. Cons: Potential to create many more feature columns and coefficients, Dummy variable trap consideration, Not easy to add new categories</li>\n",
    "\n",
    "</ul>"
   ]
  }
 ],
 "metadata": {
  "kernelspec": {
   "display_name": "base",
   "language": "python",
   "name": "python3"
  },
  "language_info": {
   "codemirror_mode": {
    "name": "ipython",
    "version": 3
   },
   "file_extension": ".py",
   "mimetype": "text/x-python",
   "name": "python",
   "nbconvert_exporter": "python",
   "pygments_lexer": "ipython3",
   "version": "3.8.5"
  }
 },
 "nbformat": 4,
 "nbformat_minor": 2
}
